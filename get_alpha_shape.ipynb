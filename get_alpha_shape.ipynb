{
 "cells": [
  {
   "cell_type": "code",
   "execution_count": null,
   "metadata": {},
   "outputs": [],
   "source": [
    "import pandas as pd\n",
    "import os\n",
    "import numpy as np\n",
    "import matplotlib.pyplot as plt\n",
    "from descartes import PolygonPatch\n",
    "import geopandas as gpd\n",
    "import logging\n",
    "import matplotlib.pyplot as plt\n",
    "from shapely.ops import unary_union, polygonize\n",
    "from scipy.spatial import Delaunay\n",
    "import numpy as np\n",
    "from descartes import PolygonPatch\n",
    "import shapely.geometry as geometry\n",
    "import pylab as pl"
   ]
  },
  {
   "cell_type": "markdown",
   "metadata": {},
   "source": [
    "### Compute alpha shape of search space\n",
    "The concave hull (boundary) of an irregular polygon can be approximated using the alpha shape method. This method takes a value `alpha` that determines how outlier points are discarded or included in the overall shape. Lower values leads to a loose boundary which may include null-space, while higher values leads to a tighter boundary which may exclude valid data points."
   ]
  },
  {
   "cell_type": "code",
   "execution_count": null,
   "metadata": {},
   "outputs": [],
   "source": [
    "def alpha_shape(coords, alpha):\n",
    "    \"\"\"\n",
    "    Compute the alpha shape (concave hull) of a set\n",
    "    of points.\n",
    "    @param points: Iterable container of points.\n",
    "    @param alpha: alpha value to influence the\n",
    "        gooeyness of the border. Smaller numbers\n",
    "        don't fall inward as much as larger numbers.\n",
    "        Too large, and you lose everything!\n",
    "    \"\"\"\n",
    "\n",
    "    tri = Delaunay(coords)\n",
    "    triangles = coords[tri.vertices]\n",
    "    a = ((triangles[:,0,0] - triangles[:,1,0]) ** 2 + (triangles[:,0,1] - triangles[:,1,1]) ** 2) ** 0.5\n",
    "    b = ((triangles[:,1,0] - triangles[:,2,0]) ** 2 + (triangles[:,1,1] - triangles[:,2,1]) ** 2) ** 0.5\n",
    "    c = ((triangles[:,2,0] - triangles[:,0,0]) ** 2 + (triangles[:,2,1] - triangles[:,0,1]) ** 2) ** 0.5\n",
    "    s = ( a + b + c ) / 2.0\n",
    "    areas = (s*(s-a)*(s-b)*(s-c)) ** 0.5\n",
    "    circums = a * b * c / (4.0 * areas)\n",
    "    filtered = triangles[circums < (1.0 / alpha)]\n",
    "    edge1 = filtered[:,(0,1)]\n",
    "    edge2 = filtered[:,(1,2)]\n",
    "    edge3 = filtered[:,(2,0)]\n",
    "    edge_points = np.unique(np.concatenate((edge1,edge2,edge3)), axis = 0).tolist()\n",
    "    m = geometry.MultiLineString(edge_points)\n",
    "    triangles = list(polygonize(m))\n",
    "    return unary_union(triangles), edge_points\n",
    "\n",
    "def plot_polygon(polygon):\n",
    "    fig = pl.figure(figsize=(10,10))\n",
    "    ax = fig.add_subplot(111)\n",
    "    margin = .3\n",
    "\n",
    "    x_min, y_min, x_max, y_max = polygon.bounds\n",
    "\n",
    "    ax.set_xlim([x_min-margin, x_max+margin])\n",
    "    ax.set_ylim([y_min-margin, y_max+margin])\n",
    "    patch = PolygonPatch(polygon, fc='#999999', ec='#000000', fill=False, zorder=-1)\n",
    "    ax.add_patch(patch)\n",
    "    return fig\n"
   ]
  },
  {
   "cell_type": "code",
   "execution_count": null,
   "metadata": {},
   "outputs": [],
   "source": [
    "file = 'data/shape.csv'\n",
    "path = os.path.join(os.getcwd(), file)\n",
    "df = pd.read_csv(path)\n",
    "\n",
    "# NOTE: these steps can probably be optimised, feels like redundant transformations are occuring.\n",
    "\n",
    "# read the pandas dataframe into a geometry dataframe\n",
    "gdf = gpd.GeoDataFrame(df, geometry=gpd.points_from_xy(df['Lat'], df['Lon']))\n",
    "logging.info('GeoDataFrame created')\n",
    "\n",
    "# read geometry data frame into coordinates list\n",
    "polygon_coords = []\n",
    "for point in gdf.geometry.values:\n",
    "    polygon_coords.append([point.x, point.y])\n",
    "\n",
    "# convert to numpy array for passive speedup\n",
    "polygon_coords = np.array(polygon_coords)"
   ]
  },
  {
   "cell_type": "code",
   "execution_count": null,
   "metadata": {},
   "outputs": [],
   "source": [
    "# computationally expensive #\n",
    "alpha = 17.5\n",
    "concave_hull, edge_points = alpha_shape(polygon_coords, alpha=alpha)"
   ]
  },
  {
   "cell_type": "code",
   "execution_count": null,
   "metadata": {},
   "outputs": [],
   "source": [
    "_ = plot_polygon(concave_hull)\n",
    "plt.show()"
   ]
  },
  {
   "cell_type": "code",
   "execution_count": null,
   "metadata": {},
   "outputs": [],
   "source": [
    "if input(\"Save? (y/n) \").lower() == 'y':\n",
    "    # save edge points to csv\n",
    "    path = os.path.join(os.getcwd(), f'alpha shape {alpha}.csv')\n",
    "    df.to_csv(path, index=False)\n",
    "    logging.info('Edge points saved')"
   ]
  }
 ],
 "metadata": {
  "kernelspec": {
   "display_name": "Python 3.10.4 64-bit",
   "language": "python",
   "name": "python3"
  },
  "language_info": {
   "codemirror_mode": {
    "name": "ipython",
    "version": 3
   },
   "file_extension": ".py",
   "mimetype": "text/x-python",
   "name": "python",
   "nbconvert_exporter": "python",
   "pygments_lexer": "ipython3",
   "version": "3.10.4"
  },
  "orig_nbformat": 4,
  "vscode": {
   "interpreter": {
    "hash": "aee8b7b246df8f9039afb4144a1f6fd8d2ca17a180786b69acc140d282b71a49"
   }
  }
 },
 "nbformat": 4,
 "nbformat_minor": 2
}
