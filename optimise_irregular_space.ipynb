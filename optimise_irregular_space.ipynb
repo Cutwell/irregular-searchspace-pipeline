{
 "cells": [
  {
   "cell_type": "markdown",
   "metadata": {},
   "source": [
    "# Search space overlap optimisation\n",
    "\n",
    "* Find shapes within an irregular polygon search space, maximising overlap and minimising polygon area."
   ]
  },
  {
   "cell_type": "code",
   "execution_count": null,
   "metadata": {},
   "outputs": [],
   "source": [
    "from platypus import NSGAII, Problem, Real, nondominated\n",
    "import pandas as pd\n",
    "import numpy as np\n",
    "from matplotlib import path\n",
    "from shapely.geometry import Polygon\n",
    "from descartes import PolygonPatch\n",
    "import pylab as pl\n",
    "from shapely import affinity\n",
    "import matplotlib.pyplot as plt"
   ]
  },
  {
   "cell_type": "code",
   "execution_count": null,
   "metadata": {},
   "outputs": [],
   "source": [
    "class Test(Problem):\n",
    "    def __init__(self, lat_limits, lon_limits, map_polygon):\n",
    "        super(Test, self).__init__(11, 2)\n",
    "\n",
    "        self.lat_limits = lat_limits\n",
    "        self.lon_limits = lon_limits\n",
    "\n",
    "        lat_range = lat_limits[1] - lat_limits[0]\n",
    "        lon_range = lon_limits[1] - lon_limits[0]\n",
    "\n",
    "        # only predict locations within the site boundaries\n",
    "        # allow predictions to be Real numbers (i.e. floats)\n",
    "        self.types = [\n",
    "            # polygon is rotated by rotation angle\n",
    "            Real(0, 360),\n",
    "\n",
    "            # center of site\n",
    "            Real(self.lon_limits[0], self.lon_limits[1]),  # center lat\n",
    "            Real(self.lat_limits[0], self.lat_limits[1]),  # center lon\n",
    "\n",
    "            # corners are offset from center coordinates\n",
    "\n",
    "            Real(-lon_range, 0),    # q1 lon\n",
    "            Real(0, lat_range),     # q1 lat\n",
    "            \n",
    "            Real(0, lon_range),     # q2 lon\n",
    "            Real(0, lat_range),     # q2 lat\n",
    "\n",
    "            Real(0, lon_range),     # q3 lon\n",
    "            Real(-lat_range, 0),    # q3 lat\n",
    "\n",
    "            Real(-lon_range, 0),    # q4 lon\n",
    "            Real(-lat_range, 0),    # q4 lat\n",
    "        ]\n",
    "\n",
    "        self.directions = [\n",
    "            Problem.MINIMIZE,  # minimise area used\n",
    "            Problem.MAXIMIZE,  # maximise intersection area\n",
    "        ]\n",
    "\n",
    "        self.map_polygon = map_polygon\n",
    "\n",
    "    def evaluate(self, solution):\n",
    "        \"\"\"Evaluate variables of solution to determine fitness.\n",
    "\n",
    "        Solution variables contain the following:\n",
    "            rotation: rotation of the polygon about the center point.\n",
    "\n",
    "            center_lat: latitude of the center point.\n",
    "            center_lon: longitude of the center point.\n",
    "\n",
    "            q1_lat: latitude of the first point of the quadrilateral.\n",
    "            q1_lon: longitude of the first point of the quadrilateral.\n",
    "            q2_lat: latitude of the second point of the quadrilateral.\n",
    "            q2_lon: longitude of the second point of the quadrilateral.\n",
    "            q3_lat: latitude of the third point of the quadrilateral.\n",
    "            q3_lon: longitude of the third point of the quadrilateral.\n",
    "            q4_lat: latitude of the fourth point of the quadrilateral.\n",
    "            q4_lon: longitude of the fourth point of the quadrilateral.\n",
    "        \"\"\"\n",
    "\n",
    "        x = solution.variables[:]\n",
    "\n",
    "        # read solution into variables\n",
    "        rotation = x[0]\n",
    "        center = x[1:3]\n",
    "        q1, q2, q3, q4 = x[3:5], x[5:7], x[7:9], x[9:11]\n",
    "        \n",
    "        # calculate corner coordinates from center and q offset\n",
    "        q1_coord = [center[0] + q1[0], center[1] + q1[1]]\n",
    "        q2_coord = [center[0] + q2[0], center[1] + q2[1]]\n",
    "        q3_coord = [center[0] + q3[0], center[1] + q3[1]]\n",
    "        q4_coord = [center[0] + q4[0], center[1] + q4[1]]\n",
    "\n",
    "        # rotation corner coordinates by rotation angle\n",
    "        points = np.array([q1_coord, q2_coord, q3_coord, q4_coord])\n",
    "\n",
    "        shapely_polygon = Polygon(points).buffer(0)\n",
    "\n",
    "        # rotate polygon by rotation angle about center coordinate\n",
    "        shapely_polygon = affinity.rotate(shapely_polygon, rotation, origin=center)\n",
    "\n",
    "        # calculate intersection area between map polygon and solution polygon\n",
    "        intersection = self.map_polygon.intersection(shapely_polygon).area\n",
    "        intersection = intersection / shapely_polygon.area * 100.0\n",
    "\n",
    "        area = shapely_polygon.area * 100\n",
    "\n",
    "        solution.objectives[:] = [\n",
    "            area,\n",
    "            intersection,\n",
    "        ]\n"
   ]
  },
  {
   "cell_type": "code",
   "execution_count": null,
   "metadata": {},
   "outputs": [],
   "source": [
    "# get size of search space\n",
    "data = pd.read_csv(\"data/shape.csv\")\n",
    "\n",
    "data_lat_range = (min(data[\"Lat\"]), max(data[\"Lat\"]))\n",
    "data_lon_range = (min(data[\"Lon\"]), max(data[\"Lon\"]))\n",
    "\n",
    "print(f\"Latitude range: {data_lat_range}, Longitude range: {data_lon_range}\")\n"
   ]
  },
  {
   "cell_type": "code",
   "execution_count": null,
   "metadata": {},
   "outputs": [],
   "source": [
    "# read map polygon coords and create polygon\n",
    "polygon_df = pd.read_csv(\"data/alpha shape 17.5.csv\")\n",
    "polygon_np = polygon_df.to_numpy()\n",
    "\n",
    "# swap columns (lon, lat) to (lat, lon)\n",
    "polygon_np = polygon_np[:, [1, 0]]\n",
    "\n",
    "# convert to shapely polygon\n",
    "map_polygon = Polygon(polygon_np)\n"
   ]
  },
  {
   "cell_type": "code",
   "execution_count": null,
   "metadata": {},
   "outputs": [],
   "source": [
    "# load the problem\n",
    "problem = Test(\n",
    "    lat_limits=data_lat_range,\n",
    "    lon_limits=data_lon_range,\n",
    "    map_polygon=map_polygon,\n",
    ")\n"
   ]
  },
  {
   "cell_type": "code",
   "execution_count": null,
   "metadata": {},
   "outputs": [],
   "source": [
    "# run the optimisation\n",
    "algorithm = NSGAII(problem)\n",
    "algorithm.run(1000)\n"
   ]
  },
  {
   "cell_type": "code",
   "execution_count": null,
   "metadata": {},
   "outputs": [],
   "source": [
    "# find non-dominated solutions\n",
    "nondominated_solutions = nondominated(algorithm.result)\n",
    "Y = np.array([s.objectives for s in nondominated_solutions])\n"
   ]
  },
  {
   "cell_type": "code",
   "execution_count": null,
   "metadata": {},
   "outputs": [],
   "source": [
    "# convert results to pandas dataframe\n",
    "results = pd.DataFrame(\n",
    "    columns=[\n",
    "        \"rotation\",\n",
    "        \"center_lon\",\n",
    "        \"center_lat\",\n",
    "        \"q1_lon\",\n",
    "        \"q1_lat\",\n",
    "        \"q2_lon\",\n",
    "        \"q2_lat\",\n",
    "        \"q3_lon\",\n",
    "        \"q3_lat\",\n",
    "        \"q4_lon\",\n",
    "        \"q4_lat\",\n",
    "        \"Area\",\n",
    "        \"Intersection\",\n",
    "    ]\n",
    ")\n",
    "\n",
    "# read nondominated solutions into dataframe\n",
    "for i, solution in enumerate(nondominated_solutions):\n",
    "    results.loc[i] = [*solution.variables[:], *solution.objectives]\n"
   ]
  },
  {
   "cell_type": "markdown",
   "metadata": {},
   "source": [
    "Plot pareto front of solutions"
   ]
  },
  {
   "cell_type": "code",
   "execution_count": null,
   "metadata": {},
   "outputs": [],
   "source": [
    "fig = plt.figure(figsize = (10, 7))\n",
    "ax = plt.axes(projection =\"3d\")\n",
    "ax.scatter3D(Y[:, 0], Y[:, 1], Y[:, 2])\n",
    "ax.set_xlabel('Area')\n",
    "ax.set_ylabel('Intersection')\n",
    "plt.show()\n"
   ]
  },
  {
   "cell_type": "markdown",
   "metadata": {},
   "source": [
    "Create folder of top 15 results with >80% intersection"
   ]
  },
  {
   "cell_type": "code",
   "execution_count": null,
   "metadata": {},
   "outputs": [],
   "source": [
    "fig = pl.figure(figsize=(10, 10))\n",
    "ax = fig.add_subplot(111)\n",
    "\n",
    "# load depth scatter into plot and reuse\n",
    "map = ax.scatter(data[\"Lon\"], data[\"Lat\"], c=data[\"Depth\"], cmap=\"viridis\")\n",
    "\n",
    "ax.set_xlabel(\"Lat\")\n",
    "ax.set_ylabel(\"Lon\")\n",
    "\n",
    "map_patch = PolygonPatch(map_polygon, fc=\"#999999\", ec=\"#000000\", fill=False)\n",
    "ax.add_patch(map_patch)\n",
    "\n",
    "# filter to get top 15 solutions with intersection > 80%\n",
    "results_filtered = results[results[\"Intersection\"] > 80]\n",
    "results_filtered = results_filtered.sort_values(by=\"Intersection\", ascending=False)\n",
    "results_filtered = results_filtered.head(15)\n",
    "results_filtered = results_filtered.reset_index(drop=True)\n",
    "\n",
    "for idx, x in results_filtered.iterrows():\n",
    "    # find the best solution\n",
    "    x = results.loc[idx]\n",
    "    x = x.reset_index(drop=True)\n",
    "\n",
    "    x = x.to_numpy()\n",
    "\n",
    "    # set title\n",
    "    ax.set_title(f\"Depth: {x[11]:.2f}m, Wind Potential: {x[12]:.2f}m/s, Area: {x[13]:.2f}%, Intersection: {x[14]:.2f}%\")\n",
    "\n",
    "    # read solution into variables\n",
    "    rotation = x[0]\n",
    "    center = x[1:3]\n",
    "    q1, q2, q3, q4 = x[3:5], x[5:7], x[7:9], x[9:11]\n",
    "    \n",
    "    # calculate corner coordinates from center and q offset\n",
    "    # REVERSE XY from LAT LON to LON LAT\n",
    "    q1_coord = [center[0] + q1[0], center[1] + q1[1]]\n",
    "    q2_coord = [center[0] + q2[0], center[1] + q2[1]]\n",
    "    q3_coord = [center[0] + q3[0], center[1] + q3[1]]\n",
    "    q4_coord = [center[0] + q4[0], center[1] + q4[1]]\n",
    "\n",
    "    # rotation corner coordinates by rotation angle\n",
    "    points = np.array([q1_coord, q2_coord, q3_coord, q4_coord])\n",
    "\n",
    "    polygon = Polygon(points)\n",
    "    # rotate polygon by rotation angle about center coordinate\n",
    "    polygon = affinity.rotate(polygon, rotation, origin=center)\n",
    "\n",
    "    center_point = ax.scatter(center[0], center[1], c=\"r\", marker=\"*\")\n",
    "\n",
    "    patch = PolygonPatch(polygon, fc=\"#999999\", ec=\"#000000\", fill=False)\n",
    "    ax.add_patch(patch)\n",
    "\n",
    "    # save figure\n",
    "    fig.savefig(f\"results/{idx}.png\")\n",
    "\n",
    "    # reset patches for next iteration\n",
    "    patch.remove()\n",
    "    center_point.remove()\n"
   ]
  }
 ],
 "metadata": {
  "kernelspec": {
   "display_name": "Python 3.10.4 64-bit",
   "language": "python",
   "name": "python3"
  },
  "language_info": {
   "codemirror_mode": {
    "name": "ipython",
    "version": 3
   },
   "file_extension": ".py",
   "mimetype": "text/x-python",
   "name": "python",
   "nbconvert_exporter": "python",
   "pygments_lexer": "ipython3",
   "version": "3.10.4"
  },
  "orig_nbformat": 4,
  "vscode": {
   "interpreter": {
    "hash": "aee8b7b246df8f9039afb4144a1f6fd8d2ca17a180786b69acc140d282b71a49"
   }
  }
 },
 "nbformat": 4,
 "nbformat_minor": 2
}
